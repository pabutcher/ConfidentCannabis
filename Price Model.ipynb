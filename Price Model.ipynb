{
 "cells": [
  {
   "cell_type": "markdown",
   "metadata": {},
   "source": [
    "###### Created by Peter Butcher for Confident Cannabis on 11/22/2017"
   ]
  },
  {
   "cell_type": "markdown",
   "metadata": {},
   "source": [
    "Environment was setup using anaconda to create separate python environment for this project to reduce the chance of conflicts between python packages and multiple versions of python"
   ]
  },
  {
   "cell_type": "markdown",
   "metadata": {},
   "source": [
    "Conda installed using python 2.7 for reasons unknown, could reinstall with python 3 if needed"
   ]
  },
  {
   "cell_type": "markdown",
   "metadata": {},
   "source": [
    "##### Import packages"
   ]
  },
  {
   "cell_type": "code",
   "execution_count": 1,
   "metadata": {},
   "outputs": [
    {
     "name": "stderr",
     "output_type": "stream",
     "text": [
      "/Users/hannahobrien/anaconda3/envs/PAB_CCPrice/lib/python2.7/site-packages/sklearn/cross_validation.py:41: DeprecationWarning: This module was deprecated in version 0.18 in favor of the model_selection module into which all the refactored classes and functions are moved. Also note that the interface of the new CV iterators are different from that of this module. This module will be removed in 0.20.\n",
      "  \"This module will be removed in 0.20.\", DeprecationWarning)\n"
     ]
    }
   ],
   "source": [
    "import os\n",
    "import pandas as pd\n",
    "import numpy as np\n",
    "from scipy.stats import skew\n",
    "from sklearn.model_selection import GridSearchCV\n",
    "from sklearn.linear_model import Lasso\n",
    "from sklearn.metrics import mean_squared_error\n",
    "from xgboost.sklearn import XGBClassifier\n",
    "from sklearn.preprocessing import StandardScaler\n",
    "from sklearn.model_selection import train_test_split\n",
    "import xgboost as xgb\n",
    "import matplotlib.pyplot as plt\n",
    "%matplotlib inline"
   ]
  },
  {
   "cell_type": "markdown",
   "metadata": {},
   "source": [
    "#### Load train data"
   ]
  },
  {
   "cell_type": "code",
   "execution_count": 2,
   "metadata": {},
   "outputs": [],
   "source": [
    "data_in = pd.read_csv('dataset.csv')\n",
    "data_in = data_in.iloc[:, 2:] #Remove first column as has no info, and second column date as have numeric timestamp"
   ]
  },
  {
   "cell_type": "markdown",
   "metadata": {},
   "source": [
    "##### Load test data"
   ]
  },
  {
   "cell_type": "code",
   "execution_count": 3,
   "metadata": {},
   "outputs": [],
   "source": [
    "test_in = pd.read_csv('testset.csv')\n",
    "test_in = test_in.iloc[:, 2:] #Remove first column as has no info, and second column date as have numeric timestamp"
   ]
  },
  {
   "cell_type": "markdown",
   "metadata": {},
   "source": [
    "Unwanted columns have been removed from the data:\n",
    "    \n",
    "Retailer, Retailer city, processor, processor city, producer, producer city, strain display name, and product name\n",
    "\n",
    "Month has been changed to a string"
   ]
  },
  {
   "cell_type": "code",
   "execution_count": 4,
   "metadata": {},
   "outputs": [],
   "source": [
    "data_in['month']=data_in['month'].astype(str)\n",
    "test_in['month']=test_in['month'].astype(str)"
   ]
  },
  {
   "cell_type": "markdown",
   "metadata": {},
   "source": [
    "#### Exploratory data analysis"
   ]
  },
  {
   "cell_type": "markdown",
   "metadata": {},
   "source": [
    "Check data for:\n",
    "\n",
    "1) Missing values which need filling in with mean\n",
    "- No apparent missing values\n",
    "\n",
    "2) Categorical variables that need dummy variables\n",
    "- See below\n",
    "\n",
    "3) Skewed distribution of numeric values (log transform)\n",
    "    \n",
    "------------------------------------------------------------"
   ]
  },
  {
   "cell_type": "markdown",
   "metadata": {},
   "source": [
    "Notes:\n",
    "\n",
    "CBD column has lots of 0s. May need to do log1p regression\n",
    "\n",
    "Columns to make dummy variables:\n",
    "\n",
    "\n",
    "1) product_name\n",
    "\n",
    "2) lab_name\n",
    "\n",
    "3) Month\n",
    "\n",
    "\n",
    "Columns to convert numeric to log:\n",
    "\n",
    "1) retailer_to distances (9 total)\n",
    "\n",
    "2) product_name\n",
    "\n",
    "3) product_size\n",
    "\n",
    "4) distance\n",
    "\n",
    "5) total_lb_sold\n",
    "\n",
    "6) units_sold\n",
    "\n",
    "7) THC\n",
    "\n",
    "8) cbd. be wary of 0s\n",
    "\n",
    "9) moisture\n",
    "\n",
    "10) pplb_pretax\n",
    "\n",
    "Unsure:\n",
    "\n",
    "1) date_sessiontime: converted\n",
    "\n",
    "3) comp_1, comp_2, comp_3, comp_4 (not converted)"
   ]
  },
  {
   "cell_type": "markdown",
   "metadata": {},
   "source": [
    "##### Explore skewness"
   ]
  },
  {
   "cell_type": "code",
   "execution_count": 5,
   "metadata": {},
   "outputs": [
    {
     "name": "stdout",
     "output_type": "stream",
     "text": [
      "date_sessiontime            -0.285427\n",
      "retailer_to_seattle          1.245950\n",
      "retailer_to_tacoma           1.312695\n",
      "retailer_to_bellingham       1.094117\n",
      "retailer_to_olympia          1.429420\n",
      "retailer_to_bellingham.1     1.094117\n",
      "retailer_to_vancouver        0.505978\n",
      "retailer_to_kennewick       -0.896765\n",
      "retailer_to_yakima          -0.437359\n",
      "retailer_to_spokane         -1.518944\n",
      "product_size_g               3.014995\n",
      "distance                     1.070127\n",
      "total_lb_sold                7.302633\n",
      "units_sold                   7.043548\n",
      "thc                         -0.706251\n",
      "cbd                         10.928785\n",
      "moisture                     0.259514\n",
      "comp_1                      -0.047730\n",
      "comp_2                       0.594879\n",
      "comp_3                      -1.950353\n",
      "comp_4                       2.483824\n",
      "pplb_pretax                  0.454184\n",
      "dtype: float64\n"
     ]
    }
   ],
   "source": [
    "numeric_feats = data_in.dtypes[data_in.dtypes != \"object\"].index\n",
    "numeric_feats_skew = data_in[numeric_feats].apply(lambda x: skew(x.dropna())) #compute skewness\n",
    "print(numeric_feats_skew)"
   ]
  },
  {
   "cell_type": "markdown",
   "metadata": {},
   "source": [
    "Using threshold of 0.75 for skewness"
   ]
  },
  {
   "cell_type": "code",
   "execution_count": 6,
   "metadata": {},
   "outputs": [
    {
     "name": "stdout",
     "output_type": "stream",
     "text": [
      "retailer_to_seattle          1.245950\n",
      "retailer_to_tacoma           1.312695\n",
      "retailer_to_bellingham       1.094117\n",
      "retailer_to_olympia          1.429420\n",
      "retailer_to_bellingham.1     1.094117\n",
      "product_size_g               3.014995\n",
      "distance                     1.070127\n",
      "total_lb_sold                7.302633\n",
      "units_sold                   7.043548\n",
      "cbd                         10.928785\n",
      "comp_4                       2.483824\n",
      "dtype: float64\n"
     ]
    }
   ],
   "source": [
    "skewed_numeric_feats = numeric_feats_skew[numeric_feats_skew > 0.75]\n",
    "print(skewed_numeric_feats)"
   ]
  },
  {
   "cell_type": "markdown",
   "metadata": {},
   "source": [
    "###### For now going to transform all numeric data using log1p. Later may want to be more specific for data type."
   ]
  },
  {
   "cell_type": "markdown",
   "metadata": {},
   "source": [
    "#### Feature engineering\n",
    "Create dummy variables and transform/scale numeric data. All this needs to be done for test data. Takes a little while to run, may be a bottleneck.\n",
    "\n",
    "Also, may run into problem with test data as will only have one producer. Might have to create empty dummy variables."
   ]
  },
  {
   "cell_type": "code",
   "execution_count": 7,
   "metadata": {},
   "outputs": [],
   "source": [
    "def create_dummies(data_in):\n",
    "    cols2edit = [i for i in data_in.columns if type(data_in[i].iloc[1]) == str or type(data_in[i].iloc[1]) == float]\n",
    "    for col_id in cols2edit:\n",
    "        data_in[col_id].fillna('NULL', inplace = True) #if any nas are present, which there dont appear to be\n",
    "        data_in = pd.concat((data_in,pd.get_dummies(data_in[col_id], prefix = col_id)), axis = 1) #create dummy variables\n",
    "        del data_in[col_id]\n",
    "    return data_in"
   ]
  },
  {
   "cell_type": "markdown",
   "metadata": {},
   "source": [
    "Convert numeric to log: avoids bias towards fitting larger values. Using log1p as adds a 1 which is better for 0 values (really only present in CBD)"
   ]
  },
  {
   "cell_type": "code",
   "execution_count": 8,
   "metadata": {},
   "outputs": [],
   "source": [
    "def transf_numeric(data_in):\n",
    "    numeric_feats = data_in.dtypes[data_in.dtypes != \"object\"].index\n",
    "    #Remove 4 comps as produce error\n",
    "    rm_list = ['comp_1','comp_2','comp_3','comp_4']\n",
    "    numeric_feats_conv = [i for i in numeric_feats if i not in rm_list]\n",
    "    data_in[numeric_feats_conv] = np.log1p(data_in[numeric_feats_conv]) #using log1p on PCA data produces nan. Can convert to num with nan_to_num\n",
    "    rm_list = ['pplb_pretax']\n",
    "    numeric_feats= [i for i in numeric_feats if i not in rm_list]\n",
    "    scaler = StandardScaler().fit(data_in[numeric_feats])\n",
    "    data_in[numeric_feats] = scaler.transform(data_in[numeric_feats])\n",
    "    return data_in"
   ]
  },
  {
   "cell_type": "markdown",
   "metadata": {},
   "source": [
    "Could create preprocess function but each one takes a while to run: hard to tell if frozen\n",
    "\n",
    "def preprocess_data(data_in):\n",
    "    data_in=create_dummies(data_in)\n",
    "    data_in=transf_numeric(data_in)\n",
    "    return data_in"
   ]
  },
  {
   "cell_type": "markdown",
   "metadata": {},
   "source": [
    "#### Preprocess data"
   ]
  },
  {
   "cell_type": "code",
   "execution_count": 9,
   "metadata": {},
   "outputs": [],
   "source": [
    "data_in=create_dummies(data_in)"
   ]
  },
  {
   "cell_type": "code",
   "execution_count": 10,
   "metadata": {},
   "outputs": [],
   "source": [
    "data_in=transf_numeric(data_in)"
   ]
  },
  {
   "cell_type": "code",
   "execution_count": 11,
   "metadata": {},
   "outputs": [],
   "source": [
    "test_in=create_dummies(test_in)"
   ]
  },
  {
   "cell_type": "code",
   "execution_count": 12,
   "metadata": {},
   "outputs": [],
   "source": [
    "test_in=transf_numeric(test_in)"
   ]
  },
  {
   "cell_type": "markdown",
   "metadata": {},
   "source": [
    "#### Using full data set"
   ]
  },
  {
   "cell_type": "code",
   "execution_count": 13,
   "metadata": {},
   "outputs": [],
   "source": [
    "pplb_train=data_in.pplb_pretax\n",
    "data_train=data_in.drop('pplb_pretax', axis=1)\n",
    "del data_in\n",
    "pplb_test=test_in.pplb_pretax\n",
    "data_test=test_in.drop('pplb_pretax', axis=1)\n",
    "del test_in"
   ]
  },
  {
   "cell_type": "markdown",
   "metadata": {},
   "source": [
    "#### Lasso Regression\n",
    "Allows some parameters to dropout of model"
   ]
  },
  {
   "cell_type": "code",
   "execution_count": 14,
   "metadata": {},
   "outputs": [],
   "source": [
    "alpha_ridge = [1e-5, 1e-4, 1e-3, 1e-2, 1, 5, 10, 20]"
   ]
  },
  {
   "cell_type": "code",
   "execution_count": 15,
   "metadata": {},
   "outputs": [
    {
     "data": {
      "text/plain": [
       "GridSearchCV(cv=10, error_score='raise',\n",
       "       estimator=Lasso(alpha=20, copy_X=True, fit_intercept=True, max_iter=1000,\n",
       "   normalize=True, positive=False, precompute=False, random_state=None,\n",
       "   selection='cyclic', tol=0.0001, warm_start=False),\n",
       "       fit_params=None, iid=True, n_jobs=-1,\n",
       "       param_grid={'alpha': [1e-05, 0.0001, 0.001, 0.01, 1, 5, 10, 20]},\n",
       "       pre_dispatch='2*n_jobs', refit=True, return_train_score='warn',\n",
       "       scoring='neg_mean_squared_error', verbose=0)"
      ]
     },
     "execution_count": 15,
     "metadata": {},
     "output_type": "execute_result"
    }
   ],
   "source": [
    "coeffs = {}\n",
    "for alpha in alpha_ridge:\n",
    "    r = Lasso(alpha=alpha, normalize=True, max_iter=100000000)\n",
    "    r = r.fit(data_train, pplb_train)\n",
    "    \n",
    "grid_search = GridSearchCV(Lasso(alpha=alpha, normalize=True), scoring='neg_mean_squared_error',\n",
    "                           param_grid={'alpha': alpha_ridge}, cv=10, n_jobs=-1)\n",
    "grid_search.fit(data_train, pplb_train)"
   ]
  },
  {
   "cell_type": "markdown",
   "metadata": {},
   "source": [
    "Print parameters"
   ]
  },
  {
   "cell_type": "code",
   "execution_count": 16,
   "metadata": {},
   "outputs": [
    {
     "name": "stdout",
     "output_type": "stream",
     "text": [
      "-0.039827384576\n"
     ]
    }
   ],
   "source": [
    "print (grid_search.score(data_train, pplb_train))"
   ]
  },
  {
   "cell_type": "code",
   "execution_count": 17,
   "metadata": {},
   "outputs": [
    {
     "name": "stdout",
     "output_type": "stream",
     "text": [
      "Lasso(alpha=1e-05, copy_X=True, fit_intercept=True, max_iter=1000,\n",
      "   normalize=True, positive=False, precompute=False, random_state=None,\n",
      "   selection='cyclic', tol=0.0001, warm_start=False)\n"
     ]
    }
   ],
   "source": [
    "print (grid_search.best_estimator_)"
   ]
  },
  {
   "cell_type": "markdown",
   "metadata": {},
   "source": [
    "Having identified our optimal alpha of 0.00001, visualize the root mean squared error of all the other alphas."
   ]
  },
  {
   "cell_type": "code",
   "execution_count": 18,
   "metadata": {},
   "outputs": [
    {
     "data": {
      "text/plain": [
       "Text(0,0.5,u'rmse')"
      ]
     },
     "execution_count": 18,
     "metadata": {},
     "output_type": "execute_result"
    },
    {
     "data": {
      "image/png": "[encoded data removed]",
      "text/plain": [
       "<matplotlib.figure.Figure at 0x1a11617cd0>"
      ]
     },
     "metadata": {},
     "output_type": "display_data"
    }
   ],
   "source": [
    "alpha = alpha_ridge\n",
    "rmse = list(np.sqrt(-grid_search.cv_results_['mean_test_score']))\n",
    "\n",
    "plt.figure(figsize=(6,5))\n",
    "lasso_cv = pd.Series(rmse, index = alpha)\n",
    "lasso_cv.plot(title = \"Validation - LASSO\", logx=True)\n",
    "plt.xlabel(\"alpha\")\n",
    "plt.ylabel(\"rmse\")"
   ]
  },
  {
   "cell_type": "markdown",
   "metadata": {},
   "source": [
    "Fit model to training data"
   ]
  },
  {
   "cell_type": "code",
   "execution_count": 19,
   "metadata": {},
   "outputs": [],
   "source": [
    "lasso = Lasso(alpha=.00001, normalize=True, max_iter=1e6)\n",
    "lasso = lasso.fit(data_train, pplb_train)"
   ]
  },
  {
   "cell_type": "markdown",
   "metadata": {},
   "source": [
    "How many variables has our model chosen?"
   ]
  },
  {
   "cell_type": "code",
   "execution_count": 20,
   "metadata": {},
   "outputs": [
    {
     "name": "stdout",
     "output_type": "stream",
     "text": [
      "Lasso picked 37 variables and eliminated the other 15 variables\n"
     ]
    }
   ],
   "source": [
    "coef = pd.Series(lasso.coef_, index = data_train.columns)\n",
    "print(\"Lasso picked \" + str(sum(coef != 0)) + \" variables and eliminated the other \" +  str(sum(coef == 0)) + \" variables\")"
   ]
  },
  {
   "cell_type": "code",
   "execution_count": 21,
   "metadata": {},
   "outputs": [],
   "source": [
    "imp_coef = pd.concat([coef.sort_values().head(10),\n",
    "                     coef.sort_values().tail(10)])"
   ]
  },
  {
   "cell_type": "code",
   "execution_count": 22,
   "metadata": {},
   "outputs": [
    {
     "data": {
      "text/plain": [
       "Text(0.5,1,u'Coefficients in the Lasso Model')"
      ]
     },
     "execution_count": 22,
     "metadata": {},
     "output_type": "execute_result"
    },
    {
     "data": {
      "image/png": "[encoded data removed]",
      "text/plain": [
       "<matplotlib.figure.Figure at 0x1a12e296d0>"
      ]
     },
     "metadata": {},
     "output_type": "display_data"
    }
   ],
   "source": [
    "plt.rcParams['figure.figsize'] = (5.0, 5.0)\n",
    "imp_coef.plot(kind = \"barh\")\n",
    "plt.title(\"Coefficients in the Lasso Model\")"
   ]
  },
  {
   "cell_type": "markdown",
   "metadata": {},
   "source": [
    "Predict the test data using the Lasso model"
   ]
  },
  {
   "cell_type": "code",
   "execution_count": 23,
   "metadata": {},
   "outputs": [],
   "source": [
    "lasso_pred = lasso.predict(data_test) #Make predictions."
   ]
  },
  {
   "cell_type": "markdown",
   "metadata": {},
   "source": [
    "Compute MSE"
   ]
  },
  {
   "cell_type": "code",
   "execution_count": 24,
   "metadata": {},
   "outputs": [
    {
     "name": "stdout",
     "output_type": "stream",
     "text": [
      "('LASSO score on test set in log format: ', 0.040743536576879166)\n"
     ]
    }
   ],
   "source": [
    "print(\"LASSO score on test set in log format: \", mean_squared_error(pplb_test, lasso_pred))"
   ]
  },
  {
   "cell_type": "code",
   "execution_count": 25,
   "metadata": {},
   "outputs": [
    {
     "name": "stdout",
     "output_type": "stream",
     "text": [
      "('LASSO score on test set in numeric format: ', 104509.15682364782)\n"
     ]
    }
   ],
   "source": [
    "print(\"LASSO score on test set in numeric format: \", mean_squared_error(np.expm1(pplb_test), np.expm1(lasso_pred)))"
   ]
  },
  {
   "cell_type": "markdown",
   "metadata": {},
   "source": [
    "###### Error is squared so it becomes large"
   ]
  },
  {
   "cell_type": "markdown",
   "metadata": {},
   "source": [
    "#### XGBoost Model\n",
    "Can take a while with large data set"
   ]
  },
  {
   "cell_type": "code",
   "execution_count": 26,
   "metadata": {},
   "outputs": [],
   "source": [
    "regr = xgb.XGBRegressor(\n",
    "                 colsample_bytree=0.3,\n",
    "                 gamma=0.0,\n",
    "                 learning_rate=0.01,\n",
    "                 max_depth=4,\n",
    "                 min_child_weight=1.5,\n",
    "                 n_estimators=1668,                                                                  \n",
    "                 reg_alpha=1,\n",
    "                 reg_lambda=0.6,\n",
    "                 subsample=0.2,\n",
    "                 seed=42,\n",
    "                 silent=1)"
   ]
  },
  {
   "cell_type": "markdown",
   "metadata": {},
   "source": [
    "Fit XGBR model"
   ]
  },
  {
   "cell_type": "code",
   "execution_count": 27,
   "metadata": {},
   "outputs": [
    {
     "data": {
      "text/plain": [
       "XGBRegressor(base_score=0.5, colsample_bylevel=1, colsample_bytree=0.3,\n",
       "       gamma=0.0, learning_rate=0.01, max_delta_step=0, max_depth=4,\n",
       "       min_child_weight=1.5, missing=None, n_estimators=1668, nthread=-1,\n",
       "       objective='reg:linear', reg_alpha=1, reg_lambda=0.6,\n",
       "       scale_pos_weight=1, seed=42, silent=1, subsample=0.2)"
      ]
     },
     "execution_count": 27,
     "metadata": {},
     "output_type": "execute_result"
    }
   ],
   "source": [
    "regr.fit(data_train, pplb_train)"
   ]
  },
  {
   "cell_type": "markdown",
   "metadata": {},
   "source": [
    "Run prediction on training set"
   ]
  },
  {
   "cell_type": "code",
   "execution_count": 28,
   "metadata": {},
   "outputs": [
    {
     "name": "stdout",
     "output_type": "stream",
     "text": [
      "('XGBoost score on test set in log format: ', 0.031271195597012705)\n"
     ]
    }
   ],
   "source": [
    "XGBR_pred = regr.predict(data_test)\n",
    "print(\"XGBoost score on test set in log format: \", mean_squared_error(pplb_test, XGBR_pred))"
   ]
  },
  {
   "cell_type": "code",
   "execution_count": 29,
   "metadata": {},
   "outputs": [
    {
     "name": "stdout",
     "output_type": "stream",
     "text": [
      "('XGBoost score on test set in numeric format: ', 81560.819530139488)\n"
     ]
    }
   ],
   "source": [
    "XGBR_pred = regr.predict(data_test)\n",
    "print(\"XGBoost score on test set in numeric format: \", mean_squared_error(np.expm1(pplb_test), np.expm1(XGBR_pred)))"
   ]
  },
  {
   "cell_type": "markdown",
   "metadata": {},
   "source": [
    "#### Blending Model Results"
   ]
  },
  {
   "cell_type": "code",
   "execution_count": 30,
   "metadata": {},
   "outputs": [],
   "source": [
    "train_predictions_blend = (.4*lasso_pred + .6*XGBR_pred)"
   ]
  },
  {
   "cell_type": "code",
   "execution_count": 31,
   "metadata": {},
   "outputs": [
    {
     "name": "stdout",
     "output_type": "stream",
     "text": [
      "('Blended model score on test set in log format: ', 0.033985616309264964)\n"
     ]
    }
   ],
   "source": [
    "print(\"Blended model score on test set in log format: \", mean_squared_error(pplb_test, train_predictions_blend))"
   ]
  },
  {
   "cell_type": "code",
   "execution_count": 32,
   "metadata": {},
   "outputs": [
    {
     "name": "stdout",
     "output_type": "stream",
     "text": [
      "('Blended model score on test set in numeric format: ', 88286.311595523526)\n"
     ]
    }
   ],
   "source": [
    "print(\"Blended model score on test set in numeric format: \", mean_squared_error(np.expm1(pplb_test), np.expm1(train_predictions_blend)))"
   ]
  },
  {
   "cell_type": "markdown",
   "metadata": {},
   "source": [
    "##### Save predictions to CSV"
   ]
  },
  {
   "cell_type": "code",
   "execution_count": 36,
   "metadata": {},
   "outputs": [],
   "source": [
    "np.savetxt(\"PAB_predictions.csv\", np.expm1(train_predictions_blend), delimiter=\",\")"
   ]
  },
  {
   "cell_type": "markdown",
   "metadata": {},
   "source": [
    "#### On XGBR model performs the best, including over blended model\n",
    "Due to the opaque nature of the XGBoost model I am keeping the blended model"
   ]
  }
 ],
 "metadata": {
  "kernelspec": {
   "display_name": "Python 2",
   "language": "python",
   "name": "python2"
  },
  "language_info": {
   "codemirror_mode": {
    "name": "ipython",
    "version": 2
   },
   "file_extension": ".py",
   "mimetype": "text/x-python",
   "name": "python",
   "nbconvert_exporter": "python",
   "pygments_lexer": "ipython2",
   "version": "2.7.14"
  }
 },
 "nbformat": 4,
 "nbformat_minor": 2
}
